{
 "cells": [
  {
   "cell_type": "code",
   "execution_count": 137,
   "id": "6edde883-57f9-4f1d-b27f-56510e138f72",
   "metadata": {},
   "outputs": [],
   "source": [
    "from pathlib import Path\n",
    "from collections import defaultdict\n",
    "import shutil"
   ]
  },
  {
   "cell_type": "code",
   "execution_count": 138,
   "id": "f9cf8e09-d913-4f9d-a8c2-215ab7a3fac0",
   "metadata": {},
   "outputs": [],
   "source": [
    "DIR_PATH = Path(\"/mnt/d/Downloads\")"
   ]
  },
  {
   "cell_type": "code",
   "execution_count": 146,
   "id": "71954feb-0e43-46a7-8a66-0da619cbc03d",
   "metadata": {},
   "outputs": [],
   "source": [
    "directories = {\n",
    "    '.csv': 'data',\n",
    "    '.json': 'data',\n",
    "    '.srt': 'data',\n",
    "    '.pdf': 'documents',\n",
    "    '.txt': 'documents',\n",
    "    '.docx': 'documents',\n",
    "    '.ttf': 'fonts',\n",
    "    '.otf': 'fonts',\n",
    "    '.webm': 'videos',\n",
    "    '.pptx': 'presentation',\n",
    "    '.exe': 'exe',\n",
    "    '.jpg': 'pictures',\n",
    "    '.zip': 'compressed',\n",
    "}"
   ]
  },
  {
   "cell_type": "code",
   "execution_count": 147,
   "id": "b492ec13-37ab-4195-8c91-17ed8f10b03d",
   "metadata": {},
   "outputs": [
    {
     "data": {
      "text/plain": [
       "defaultdict(int, {'': 1})"
      ]
     },
     "execution_count": 147,
     "metadata": {},
     "output_type": "execute_result"
    }
   ],
   "source": [
    "file_ext = defaultdict(int)\n",
    "\n",
    "for file in DIR_PATH.iterdir():\n",
    "    file_ext[file.suffix] += 1\n",
    "\n",
    "file_ext"
   ]
  },
  {
   "cell_type": "code",
   "execution_count": 148,
   "id": "e7012ed1-5192-45c9-85c2-7da639fbf8a5",
   "metadata": {},
   "outputs": [],
   "source": [
    "DIR_PATH_2 = DIR_PATH / \"Files\"\n",
    "DIR_PATH_2.mkdir(exist_ok=True)\n",
    "\n",
    "for file in DIR_PATH.iterdir():\n",
    "    if file.is_dir():\n",
    "        continue\n",
    "    \n",
    "    if not file.suffix in directories:\n",
    "        continue\n",
    "               \n",
    "    DEST_DIR = DIR_PATH_2 / directories[file.suffix]\n",
    "    DEST_DIR.mkdir(exist_ok=True)\n",
    "    \n",
    "    shutil.move(str(file), str(DEST_DIR))"
   ]
  },
  {
   "cell_type": "code",
   "execution_count": null,
   "id": "9a03fcbd-8137-4adc-8f64-a6cac9dac8fd",
   "metadata": {},
   "outputs": [],
   "source": []
  },
  {
   "cell_type": "code",
   "execution_count": null,
   "id": "744b5d60-b35b-4727-b30b-91b358596e8e",
   "metadata": {},
   "outputs": [],
   "source": []
  },
  {
   "cell_type": "code",
   "execution_count": null,
   "id": "c2d20524-589e-4679-8977-abfb6eb15b83",
   "metadata": {},
   "outputs": [],
   "source": []
  }
 ],
 "metadata": {
  "kernelspec": {
   "display_name": "Python 3 (ipykernel)",
   "language": "python",
   "name": "python3"
  },
  "language_info": {
   "codemirror_mode": {
    "name": "ipython",
    "version": 3
   },
   "file_extension": ".py",
   "mimetype": "text/x-python",
   "name": "python",
   "nbconvert_exporter": "python",
   "pygments_lexer": "ipython3",
   "version": "3.8.12"
  }
 },
 "nbformat": 4,
 "nbformat_minor": 5
}
